{
  "nbformat": 4,
  "nbformat_minor": 0,
  "metadata": {
    "colab": {
      "provenance": [],
      "authorship_tag": "ABX9TyNWojVcV13XE/EU07OsBjc/",
      "include_colab_link": true
    },
    "kernelspec": {
      "name": "python3",
      "display_name": "Python 3"
    },
    "language_info": {
      "name": "python"
    }
  },
  "cells": [
    {
      "cell_type": "markdown",
      "metadata": {
        "id": "view-in-github",
        "colab_type": "text"
      },
      "source": [
        "<a href=\"https://colab.research.google.com/github/DPM-ES/generador_QR/blob/main/Generador_QRs_Colab.ipynb\" target=\"_parent\"><img src=\"https://colab.research.google.com/assets/colab-badge.svg\" alt=\"Open In Colab\"/></a>"
      ]
    },
    {
      "cell_type": "code",
      "execution_count": null,
      "metadata": {
        "id": "Lphg-8W2etbn"
      },
      "outputs": [],
      "source": [
        "# Instalación del paquete qrcode\n",
        "!pip install qrcode"
      ]
    },
    {
      "cell_type": "code",
      "source": [
        "# Importaciones\n",
        "import qrcode\n",
        "import os"
      ],
      "metadata": {
        "id": "0e07ByCoiXBj"
      },
      "execution_count": 7,
      "outputs": []
    },
    {
      "cell_type": "code",
      "source": [
        "# Gama de colores\n",
        "c_black = (0, 0, 0)\n",
        "c_white = (255, 255, 255)\n",
        "c_gray = (128, 128, 128)\n",
        "\n",
        "c_red = (255, 0, 0)\n",
        "c_green = (0, 255, 0)\n",
        "c_blue = (0, 0, 255)\n",
        "\n",
        "c_yellow = (255, 255, 0)\n",
        "c_cian = (0, 255, 255)\n",
        "c_magenta = (255, 0, 255)"
      ],
      "metadata": {
        "id": "dc_Z0gPBft64"
      },
      "execution_count": 2,
      "outputs": []
    },
    {
      "cell_type": "code",
      "source": [
        "# Colores fondo y qr\n",
        "# Cambiar aquí los colores\n",
        "c_background = c_white\n",
        "c_font = c_black"
      ],
      "metadata": {
        "id": "-dnyj1JIgpq6"
      },
      "execution_count": 3,
      "outputs": []
    },
    {
      "cell_type": "code",
      "source": [
        "# Funciones\n",
        "def menu_qr_web():\n",
        "    \"\"\"\n",
        "    Función que muestra el submenú de generar un QR de una web, recoge los datos y los manda a la función generadora,\n",
        "    si todo ha salido bien indica que se guardó el QR si no, informa de un error (pero no lo muestra)\n",
        "    \"\"\"\n",
        "    os.system(\"cls\")\n",
        "    print(\"__________________________________________\")\n",
        "    print(\"Generador QR de dirección web\")\n",
        "    print(\"__________________________________________\")\n",
        "    url = input(\n",
        "        \"Por favor, introduce URL completa (ej: https://www.miweb.com/):\\n(Dejar en blanco para volver atrás)\\n > \")\n",
        "    if url:\n",
        "        if qr_web(url):\n",
        "            input(\"QR generado correctamente\\nSe ha guardado en la ruta del script\\n(Intro para continuar)\")\n",
        "        else:\n",
        "            input(\"Error desconocido (Intro para continuar)\")\n",
        "\n",
        "\n",
        "def menu_qr_vcard():\n",
        "    \"\"\"\n",
        "    Función que muestra el submenú de generar un QR de una vCard, recoge los datos y los manda a la función generadora,\n",
        "    si todo ha salido bien indica que se guardó el QR si no, informa de un error (pero no lo muestra)\n",
        "    \"\"\"\n",
        "    data = [\"\", \"\", \"\", \"\", \"\"]\n",
        "    items = ['\"Nombre\"', '\"Apellidos\"', '\"Teléfono\"', '\"Email\"', '\"Url de web personal (ej: https://www.miweb.com/)\"']\n",
        "    os.system(\"cls\")\n",
        "    print(\"__________________________________________\")\n",
        "    print(\"Generador QR de vCard\")\n",
        "    print(\"__________________________________________\")\n",
        "    for i in range(len(items)):\n",
        "        print(\"Por favor, introduce \" + items[i] + \":\")\n",
        "        if i > 1:\n",
        "            print(\"(Intro para dejar en blanco)\")\n",
        "            data[i] = input(\" > \")\n",
        "        else:\n",
        "            print(\"(Deja en blanco para volver atrás)\")\n",
        "            data[i] = input(\" > \")\n",
        "            if not data[i]:\n",
        "                return\n",
        "    if qr_vcard(data):\n",
        "        input(\"QR generado correctamente\\nSe ha guardado en la ruta del script\\n(Intro para continuar)\")\n",
        "    else:\n",
        "        input(\"Error desconocido (Intro para continuar)\")\n",
        "\n",
        "\n",
        "def qr_web(url):\n",
        "    \"\"\"\n",
        "    Fución encargada de generar y guardar el QR de la web generado a partir de los datos recibidos de la función\n",
        "    \\\"menu_qr_web\\\", devuelve True si no ha habido errores, False en caso contrario.\n",
        "    \"\"\"\n",
        "    try:\n",
        "        qr = qrcode.QRCode(\n",
        "            version=1,\n",
        "            error_correction=qrcode.constants.ERROR_CORRECT_M,\n",
        "            box_size=10,\n",
        "            border=8,\n",
        "        )\n",
        "        qr.add_data(url)\n",
        "        img = qr.make_image(fill_color=c_font, back_color=c_background)\n",
        "        img.save(\"QR_Web.png\")\n",
        "        return True\n",
        "    except:\n",
        "        return False\n",
        "\n",
        "\n",
        "def qr_vcard(data):\n",
        "    \"\"\"\n",
        "    Fución encargada de generar y guardar el QR de la vCard generado a partir de los datos recibidos de la función\n",
        "    \\\"menu_qr_vcard\\\", devuelve True si no ha habido errores, False en caso contrario.\n",
        "    \"\"\"\n",
        "    data_card = [\"BEGIN:VCARD\", \"VERSION:3.0\", \"END:VCARD\"]\n",
        "    try:\n",
        "        value = \"N:\" + data[1] + \";\" + data[0] + \";;;\"\n",
        "        data_card.insert(2, value)\n",
        "        value = \"FN:\" + data[0] + \" \" + data[1]\n",
        "        data_card.insert(3, value)\n",
        "        if data[2]:\n",
        "            value = \"TEL;TYPE=CELL,VOICE:\" + data[2]\n",
        "            data_card.insert(-1, value)\n",
        "        if data[3]:\n",
        "            value = \"EMAIL;TYPE=HOME,PREF,INTERNET:\" + data[3]\n",
        "            data_card.insert(-1, value)\n",
        "        if data[4]:\n",
        "            value = \"URL:\" + data[4]\n",
        "            data_card.insert(-1, value)\n",
        "        qr = qrcode.QRCode(\n",
        "            version=1,\n",
        "            error_correction=qrcode.constants.ERROR_CORRECT_M,\n",
        "            box_size=5,\n",
        "            border=14,\n",
        "        )\n",
        "        qr.add_data(\"\\n\".join(data_card))\n",
        "        img = qr.make_image(fill_color=c_font,\n",
        "                            back_color=c_background)\n",
        "        img.save(\"QR_vCard.png\")\n",
        "        return True\n",
        "    except:\n",
        "        return False"
      ],
      "metadata": {
        "id": "wcEpsZ_vhe3X"
      },
      "execution_count": 4,
      "outputs": []
    },
    {
      "cell_type": "code",
      "source": [
        "# Función principal\n",
        "def main_menu():\n",
        "    \"\"\"\n",
        "    Función que muestra el menú principal y deriva a las subfunciones\n",
        "    \"\"\"\n",
        "    while True:\n",
        "        os.system(\"cls\")\n",
        "        print(\"__________________________________________\")\n",
        "        print(\"Bienvenido al programa \\\"Generador de QRs\\\"\")\n",
        "        print(\"Código escrito por DPM_ES\")\n",
        "        print(\"__________________________________________\")\n",
        "        print(\"[1] Crear QR dirección web\")\n",
        "        print(\"[2] Crear QR vCard\")\n",
        "        print(\"[0] Salir\")\n",
        "        try:\n",
        "            option = int(input(\" > \"))\n",
        "        except ValueError:\n",
        "            print(\"\\n\\n\\nError: Valor no reconocido\\n\\n\\n\")\n",
        "            continue\n",
        "\n",
        "        if option == 1:\n",
        "            menu_qr_web()\n",
        "        if option == 2:\n",
        "            menu_qr_vcard()\n",
        "        if option == 0:\n",
        "            print(\"¡Hasta pronto!\")\n",
        "            break"
      ],
      "metadata": {
        "id": "drxFtw_EhhRy"
      },
      "execution_count": 5,
      "outputs": []
    },
    {
      "cell_type": "code",
      "source": [
        "# Ejecución\n",
        "main_menu()"
      ],
      "metadata": {
        "id": "rWVQ7lnLiO71"
      },
      "execution_count": null,
      "outputs": []
    }
  ]
}
